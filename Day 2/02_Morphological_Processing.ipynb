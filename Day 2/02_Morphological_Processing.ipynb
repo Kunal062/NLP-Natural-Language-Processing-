{
  "nbformat": 4,
  "nbformat_minor": 0,
  "metadata": {
    "colab": {
      "provenance": []
    },
    "kernelspec": {
      "name": "python3",
      "display_name": "Python 3"
    },
    "language_info": {
      "name": "python"
    }
  },
  "cells": [
    {
      "cell_type": "code",
      "execution_count": null,
      "metadata": {
        "colab": {
          "base_uri": "https://localhost:8080/"
        },
        "id": "TmZFZUHBibgJ",
        "outputId": "37542f72-b1fd-44d8-c7b6-0d63e632e01c"
      },
      "outputs": [
        {
          "output_type": "stream",
          "name": "stdout",
          "text": [
            "Requirement already satisfied: morfessor in /usr/local/lib/python3.10/dist-packages (2.0.6)\n",
            "Requirement already satisfied: polyglot in /usr/local/lib/python3.10/dist-packages (16.7.4)\n",
            "Requirement already satisfied: pyICU in /usr/local/lib/python3.10/dist-packages (2.13.1)\n",
            "Collecting pycld2\n",
            "  Downloading pycld2-0.41.tar.gz (41.4 MB)\n",
            "\u001b[2K     \u001b[90m━━━━━━━━━━━━━━━━━━━━━━━━━━━━━━━━━━━━━━━━\u001b[0m \u001b[32m41.4/41.4 MB\u001b[0m \u001b[31m27.3 MB/s\u001b[0m eta \u001b[36m0:00:00\u001b[0m\n",
            "\u001b[?25h  Preparing metadata (setup.py) ... \u001b[?25l\u001b[?25hdone\n",
            "Building wheels for collected packages: pycld2\n",
            "  Building wheel for pycld2 (setup.py) ... \u001b[?25l\u001b[?25hdone\n",
            "  Created wheel for pycld2: filename=pycld2-0.41-cp310-cp310-linux_x86_64.whl size=9904072 sha256=fd781d75a18a0c94cda410c9b5b30b0e148f6edae94d62cf0fb2cb9611552b62\n",
            "  Stored in directory: /root/.cache/pip/wheels/be/81/31/240c89c845e008a93d98542325270007de595bfd356eb0b06c\n",
            "Successfully built pycld2\n",
            "Installing collected packages: pycld2\n",
            "Successfully installed pycld2-0.41\n"
          ]
        }
      ],
      "source": [
        "pip install morfessor polyglot pyICU pycld2 -U"
      ]
    },
    {
      "cell_type": "code",
      "source": [
        "%%bash\n",
        "polyglot download morph2.en morph2.mr"
      ],
      "metadata": {
        "colab": {
          "base_uri": "https://localhost:8080/"
        },
        "id": "zWpfMiFRigzP",
        "outputId": "10c502af-9162-4aa9-8382-929b79e1aab0"
      },
      "execution_count": null,
      "outputs": [
        {
          "output_type": "stream",
          "name": "stdout",
          "text": [
            "[polyglot_data] Downloading package morph2.en to\n",
            "[polyglot_data]     /root/polyglot_data...\n",
            "[polyglot_data] Downloading package morph2.mr to\n",
            "[polyglot_data]     /root/polyglot_data...\n"
          ]
        }
      ]
    },
    {
      "cell_type": "code",
      "source": [
        "from polyglot.downloader import downloader\n",
        "print(downloader.supported_languages_table('morph2'))"
      ],
      "metadata": {
        "colab": {
          "base_uri": "https://localhost:8080/"
        },
        "id": "VzzpWDVXj0Ib",
        "outputId": "89042f2d-361b-4fac-df0c-5304dd4c8037"
      },
      "execution_count": null,
      "outputs": [
        {
          "output_type": "stream",
          "name": "stdout",
          "text": [
            "  1. Kapampangan                2. Italian                    3. Upper Sorbian            \n",
            "  4. Sakha                      5. Hindi                      6. French                   \n",
            "  7. Spanish; Castilian         8. Vietnamese                 9. Arabic                   \n",
            " 10. Macedonian                11. Pashto, Pushto            12. Bosnian-Croatian-Serbian \n",
            " 13. Egyptian Arabic           14. Norwegian Nynorsk         15. Sundanese                \n",
            " 16. Sicilian                  17. Azerbaijani               18. Bulgarian                \n",
            " 19. Yoruba                    20. Tajik                     21. Georgian                 \n",
            " 22. Tatar                     23. Galician                  24. Malagasy                 \n",
            " 25. Uighur, Uyghur            26. Amharic                   27. Venetian                 \n",
            " 28. Yiddish                   29. Norwegian                 30. Alemannic                \n",
            " 31. Estonian                  32. West Flemish              33. Divehi; Dhivehi; Mald... \n",
            " 34. Japanese                  35. Ilokano                   36. Haitian; Haitian Creole  \n",
            " 37. Belarusian                38. Greek, Modern             39. Ossetian, Ossetic        \n",
            " 40. Welsh                     41. Malayalam                 42. Albanian                 \n",
            " 43. Marathi (Marāṭhī)         44. Armenian                  45. Slovene                  \n",
            " 46. Korean                    47. Breton                    48. Irish                    \n",
            " 49. Luxembourgish, Letzeb...  50. Bengali                   51. Serbian                  \n",
            " 52. Fiji Hindi                53. Javanese                  54. Finnish                  \n",
            " 55. Gan Chinese               56. Kirghiz, Kyrgyz           57. Catalan; Valencian       \n",
            " 58. Quechua                   59. Croatian                  60. Dutch                    \n",
            " 61. Swedish                   62. Ido                       63. Tagalog                  \n",
            " 64. Sanskrit (Saṁskṛta)       65. Piedmontese language      66. Asturian                 \n",
            " 67. Danish                    68. Cebuano                   69. Western Frisian          \n",
            " 70. Kannada                   71. Scots                     72. Maltese                  \n",
            " 73. Swahili                   74. Limburgish, Limburgan...  75. Waray-Waray              \n",
            " 76. Lombard language          77. Uzbek                     78. Kurdish                  \n",
            " 79. Latvian                   80. Burmese                   81. Aragonese                \n",
            " 82. Volapük                   83. Northern Sami             84. Faroese                  \n",
            " 85. Kazakh                    86. Telugu                    87. Ukrainian                \n",
            " 88. Assamese                  89. Chuvash                   90. Silesian                 \n",
            " 91. Turkmen                   92. Romanian, Moldavian, ...  93. Persian                  \n",
            " 94. Tibetan Standard, Tib...  95. Latin                     96. Slovak                   \n",
            " 97. Sinhala, Sinhalese        98. Bavarian                  99. Icelandic                \n",
            "100. Mongolian                101. Walloon                  102. Portuguese               \n",
            "103. Urdu                     104. Gujarati                 105. Manx                     \n",
            "106. Tamil                    107. Khmer                    108. English                  \n",
            "109. Malay                    110. Chechen                  111. Bishnupriya Manipuri     \n",
            "112. Afrikaans                113. Basque                   114. Polish                   \n",
            "115. German                   116. Esperanto                117. Indonesian               \n",
            "118. Occitan                  119. Chinese                  120. Czech                    \n",
            "121. Hebrew (modern)          122. Romansh                  123. Lithuanian               \n",
            "124. Turkish                  125. Nepali                   126. Bosnian                  \n",
            "127. Interlingua              128. Zazaki                   129. Oriya                    \n",
            "130. Hungarian                131. Scottish Gaelic; Gaelic  132. Bashkir                  \n",
            "133. Thai                     134. Panjabi, Punjabi         135. Russian                  \n",
            "\n"
          ]
        }
      ]
    },
    {
      "cell_type": "code",
      "source": [
        "from polyglot.text import Text, Word"
      ],
      "metadata": {
        "id": "KQNqIjf2lSOA"
      },
      "execution_count": null,
      "outputs": []
    },
    {
      "cell_type": "code",
      "source": [
        "words = ['cats', 'computing', 'association', 'programming', 'leadership', 'miscommunication',\n",
        "         'identifiable', 'psychologically', 'engineering', 'tabular', 'realisic', 'colorfulness']"
      ],
      "metadata": {
        "id": "07p6IZ7NlpTb"
      },
      "execution_count": null,
      "outputs": []
    },
    {
      "cell_type": "code",
      "source": [
        "for w in words:\n",
        "  w = Word(w, language='en')\n",
        "  print(w, '\\t\\t', w.morphemes)"
      ],
      "metadata": {
        "colab": {
          "base_uri": "https://localhost:8080/"
        },
        "id": "5MvhvvNBmLz0",
        "outputId": "37d11a8b-1dae-41bb-c3cc-5888e2ce7f9a"
      },
      "execution_count": null,
      "outputs": [
        {
          "output_type": "stream",
          "name": "stdout",
          "text": [
            "cats \t\t ['cat', 's']\n",
            "computing \t\t ['com', 'put', 'ing']\n",
            "association \t\t ['associ', 'ation']\n",
            "programming \t\t ['program', 'ming']\n",
            "leadership \t\t ['leader', 'ship']\n",
            "miscommunication \t\t ['mis', 'communication']\n",
            "identifiable \t\t ['identif', 'i', 'able']\n",
            "psychologically \t\t ['psycho', 'logical', 'ly']\n",
            "engineering \t\t ['engine', 'er', 'ing']\n",
            "tabular \t\t ['tab', 'ular']\n",
            "realisic \t\t ['real', 'is', 'ic']\n",
            "colorfulness \t\t ['color', 'ful', 'ness']\n"
          ]
        }
      ]
    },
    {
      "cell_type": "code",
      "source": [
        "words = ['प्रमाणिकरण', 'जलविद्युत', 'राजशास्त्र', 'जलप्राधिकरण', 'मानशास्त्रीय', 'रविवार', 'महाद्वीप']\n",
        "for w in words:\n",
        "  w = Word(w, language='mr')\n",
        "  print(w, '\\t\\t', w.morphemes)"
      ],
      "metadata": {
        "colab": {
          "base_uri": "https://localhost:8080/"
        },
        "id": "wHadzmMcmpbm",
        "outputId": "3c7c84e6-8b0f-4707-f1fa-9ebf9b2331ab"
      },
      "execution_count": null,
      "outputs": [
        {
          "output_type": "stream",
          "name": "stdout",
          "text": [
            "प्रमाणिकरण \t\t ['प्रमाण', 'िकरण']\n",
            "जलविद्युत \t\t ['जल', 'विद्युत']\n",
            "राजशास्त्र \t\t ['राज', 'शास्त्र']\n",
            "जलप्राधिकरण \t\t ['जल', 'प्राधिकरण']\n",
            "मानशास्त्रीय \t\t ['मान', 'शास्त्र', 'ीय']\n",
            "रविवार \t\t ['रवि', 'वार']\n",
            "महाद्वीप \t\t ['महा', 'द्वीप']\n"
          ]
        }
      ]
    },
    {
      "cell_type": "code",
      "source": [
        "blob = \"Wewillmeettoday.\"\n",
        "text = Text(blob)\n",
        "text.language = 'en'"
      ],
      "metadata": {
        "id": "28iNXYGnoLWl"
      },
      "execution_count": null,
      "outputs": []
    },
    {
      "cell_type": "code",
      "source": [
        "blob  # blob means raw text"
      ],
      "metadata": {
        "colab": {
          "base_uri": "https://localhost:8080/",
          "height": 36
        },
        "id": "qq2WaEcypH0t",
        "outputId": "3549884d-f650-4f64-eced-b4236999292c"
      },
      "execution_count": null,
      "outputs": [
        {
          "output_type": "execute_result",
          "data": {
            "text/plain": [
              "'Wewillmeettoday.'"
            ],
            "application/vnd.google.colaboratory.intrinsic+json": {
              "type": "string"
            }
          },
          "metadata": {},
          "execution_count": 19
        }
      ]
    },
    {
      "cell_type": "code",
      "source": [
        "text"
      ],
      "metadata": {
        "colab": {
          "base_uri": "https://localhost:8080/"
        },
        "id": "xFVVBOiupJZ8",
        "outputId": "45d823e1-9107-48d2-f2d3-50547b2bdd3c"
      },
      "execution_count": null,
      "outputs": [
        {
          "output_type": "execute_result",
          "data": {
            "text/plain": [
              "Text(\"Wewillmeettoday.\")"
            ]
          },
          "metadata": {},
          "execution_count": 20
        }
      ]
    },
    {
      "cell_type": "code",
      "source": [
        "text.morphemes"
      ],
      "metadata": {
        "colab": {
          "base_uri": "https://localhost:8080/"
        },
        "id": "kGFbmfXjpPFY",
        "outputId": "5b92cec4-b7fe-43be-9422-76d3c485ff27"
      },
      "execution_count": null,
      "outputs": [
        {
          "output_type": "execute_result",
          "data": {
            "text/plain": [
              "WordList(['We', 'will', 'meet', 'to', 'day', '.'])"
            ]
          },
          "metadata": {},
          "execution_count": 21
        }
      ]
    }
  ]
}