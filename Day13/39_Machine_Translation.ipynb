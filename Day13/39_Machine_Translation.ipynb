{
  "cells": [
    {
      "cell_type": "code",
      "execution_count": 1,
      "metadata": {
        "colab": {
          "base_uri": "https://localhost:8080/",
          "height": 409
        },
        "collapsed": true,
        "id": "H8_Mc4T1v_WS",
        "outputId": "78756935-4b22-46d3-9a77-b800a1706369"
      },
      "outputs": [
        {
          "name": "stdout",
          "output_type": "stream",
          "text": [
            "Collecting goslate\n",
            "  Downloading goslate-1.5.4.tar.gz (14 kB)\n",
            "  Preparing metadata (setup.py) ... \u001b[?25l\u001b[?25hdone\n",
            "Collecting futures (from goslate)\n",
            "  Downloading futures-3.0.5.tar.gz (25 kB)\n",
            "  Preparing metadata (setup.py) ... \u001b[?25l\u001b[?25hdone\n",
            "Building wheels for collected packages: goslate, futures\n",
            "  Building wheel for goslate (setup.py) ... \u001b[?25l\u001b[?25hdone\n",
            "  Created wheel for goslate: filename=goslate-1.5.4-py3-none-any.whl size=11577 sha256=8c1b83b44da3bf4d159e5bd05d35e80a2baec2b792460ccfa56949cdf600571e\n",
            "  Stored in directory: /root/.cache/pip/wheels/b5/30/e9/63b6de83667be2977ee793a146a2c80f8e588d5c0203b39dc9\n",
            "  Building wheel for futures (setup.py) ... \u001b[?25l\u001b[?25hdone\n",
            "  Created wheel for futures: filename=futures-3.0.5-py3-none-any.whl size=14067 sha256=f14dd875694bc66bb80541aab23c7c78c92bc99a0dfd655b351bafc06dd2dcf5\n",
            "  Stored in directory: /root/.cache/pip/wheels/ef/af/93/48739d464ba97d4cdc77c627d282f9794c8d276e42aaa92160\n",
            "Successfully built goslate futures\n",
            "Installing collected packages: futures, goslate\n",
            "Successfully installed futures-3.0.5 goslate-1.5.4\n"
          ]
        },
        {
          "data": {
            "application/vnd.colab-display-data+json": {
              "id": "11df7ea9a1964f09a3202a0568d376f5",
              "pip_warning": {
                "packages": [
                  "concurrent"
                ]
              }
            }
          },
          "metadata": {},
          "output_type": "display_data"
        }
      ],
      "source": [
        "#pip install goslate"
      ]
    },
    {
      "cell_type": "code",
      "execution_count": 1,
      "metadata": {
        "id": "SOboTnqiwBx7"
      },
      "outputs": [],
      "source": [
        "from goslate import Goslate"
      ]
    },
    {
      "cell_type": "code",
      "execution_count": 5,
      "metadata": {
        "id": "2g_qvoTawnIF"
      },
      "outputs": [],
      "source": [
        "text = \"Hello friends. I am your teacher. I will teach this course.\""
      ]
    },
    {
      "cell_type": "code",
      "execution_count": 6,
      "metadata": {
        "id": "eLwQRxmwwwO6"
      },
      "outputs": [],
      "source": [
        "trans = Goslate()"
      ]
    },
    {
      "cell_type": "code",
      "execution_count": 7,
      "metadata": {
        "colab": {
          "base_uri": "https://localhost:8080/",
          "height": 36
        },
        "id": "i5fol_5VwxzJ",
        "outputId": "b2703850-09d6-4ccd-8a19-b12d3bf21040"
      },
      "outputs": [
        {
          "data": {
            "application/vnd.google.colaboratory.intrinsic+json": {
              "type": "string"
            },
            "text/plain": [
              "'नमस्कार मित्रांनो. मी तुमचा शिक्षक आहे. मी हा कोर्स शिकवीन.'"
            ]
          },
          "execution_count": 7,
          "metadata": {},
          "output_type": "execute_result"
        }
      ],
      "source": [
        "trans.translate(text, target_language='mr')"
      ]
    },
    {
      "cell_type": "code",
      "execution_count": 9,
      "metadata": {
        "id": "LFOIa9Azw4S0"
      },
      "outputs": [],
      "source": [
        "from textblob import TextBlob"
      ]
    },
    {
      "cell_type": "code",
      "execution_count": 11,
      "metadata": {
        "colab": {
          "base_uri": "https://localhost:8080/"
        },
        "id": "XHq81QDCxkU1",
        "outputId": "45e2761e-49a1-48ef-897e-f82e6b8a9d93"
      },
      "outputs": [
        {
          "name": "stderr",
          "output_type": "stream",
          "text": [
            "[nltk_data] Downloading package punkt to /root/nltk_data...\n",
            "[nltk_data]   Unzipping tokenizers/punkt.zip.\n"
          ]
        },
        {
          "data": {
            "text/plain": [
              "True"
            ]
          },
          "execution_count": 11,
          "metadata": {},
          "output_type": "execute_result"
        }
      ],
      "source": [
        "import nltk\n",
        "nltk.download('punkt')"
      ]
    },
    {
      "cell_type": "code",
      "execution_count": 13,
      "metadata": {
        "colab": {
          "base_uri": "https://localhost:8080/"
        },
        "id": "g6O3TIb1xsYD",
        "outputId": "5941f069-1d99-437e-f1ad-28cf6fc20fad"
      },
      "outputs": [
        {
          "data": {
            "text/plain": [
              "['नमस्कार मित्रांनो.', 'मी तुमचा शिक्षक आहे.', 'मी हा कोर्स शिकवीन.']"
            ]
          },
          "execution_count": 13,
          "metadata": {},
          "output_type": "execute_result"
        }
      ],
      "source": [
        "TextBlob(text).translate(from_lang='en', to='mr').raw_sentences"
      ]
    },
    {
      "cell_type": "code",
      "execution_count": 15,
      "metadata": {
        "colab": {
          "base_uri": "https://localhost:8080/"
        },
        "id": "CtKKCdE_x71y",
        "outputId": "6a92abd2-9498-4f5e-de0a-d56f6e028509"
      },
      "outputs": [
        {
          "data": {
            "text/plain": [
              "['कार्यक्रम कधी पूर्ण करायचा?']"
            ]
          },
          "execution_count": 15,
          "metadata": {},
          "output_type": "execute_result"
        }
      ],
      "source": [
        "TextBlob(\"When to finish the program?\").translate(from_lang='en', to='mr').raw_sentences"
      ]
    },
    {
      "cell_type": "code",
      "execution_count": 17,
      "metadata": {
        "id": "FWxMefY9yHqo"
      },
      "outputs": [],
      "source": [
        "mtext = 'नमस्कार मित्रांनो. मी तुमचा शिक्षक आहे. मी हा कोर्स शिकवीन.'"
      ]
    },
    {
      "cell_type": "code",
      "execution_count": 18,
      "metadata": {
        "colab": {
          "base_uri": "https://localhost:8080/"
        },
        "id": "abGgRpBhzQSM",
        "outputId": "0137802d-d5a9-43d1-a2fc-d8b231405e7a"
      },
      "outputs": [
        {
          "data": {
            "text/plain": [
              "['नमस्कार दोस्तों। मैं तुम्हारी शिक्षिका हूं। मैं इस कोर्स को सिखाऊंगा।']"
            ]
          },
          "execution_count": 18,
          "metadata": {},
          "output_type": "execute_result"
        }
      ],
      "source": [
        "TextBlob(mtext).translate(from_lang='mr', to='hi').raw_sentences"
      ]
    },
    {
      "cell_type": "code",
      "execution_count": 21,
      "metadata": {
        "colab": {
          "base_uri": "https://localhost:8080/"
        },
        "id": "humVdAZizae8",
        "outputId": "07f80926-8d65-4233-87d1-dda3a8c65629"
      },
      "outputs": [
        {
          "data": {
            "text/plain": [
              "['హలో ఫ్రెండ్స్.', 'నేను మీ గురువు.', 'నేను ఈ కోర్సును బోధిస్తాను.']"
            ]
          },
          "execution_count": 21,
          "metadata": {},
          "output_type": "execute_result"
        }
      ],
      "source": [
        "TextBlob(mtext).translate(from_lang='mr', to='te').raw_sentences"
      ]
    },
    {
      "cell_type": "code",
      "execution_count": null,
      "metadata": {
        "id": "nmWzXdRazj3X"
      },
      "outputs": [],
      "source": []
    }
  ],
  "metadata": {
    "colab": {
      "provenance": []
    },
    "kernelspec": {
      "display_name": "Python 3",
      "name": "python3"
    },
    "language_info": {
      "name": "python",
      "version": "3.11.7"
    }
  },
  "nbformat": 4,
  "nbformat_minor": 0
}
