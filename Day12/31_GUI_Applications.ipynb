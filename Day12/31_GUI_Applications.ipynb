{
 "cells": [
  {
   "cell_type": "markdown",
   "metadata": {},
   "source": [
    "### Installation of Flask"
   ]
  },
  {
   "cell_type": "code",
   "execution_count": null,
   "metadata": {},
   "outputs": [],
   "source": [
    "#pip install flask"
   ]
  },
  {
   "cell_type": "code",
   "execution_count": 4,
   "metadata": {},
   "outputs": [],
   "source": [
    "from tkinter import *"
   ]
  },
  {
   "cell_type": "markdown",
   "metadata": {},
   "source": [
    "## Basic Application\n"
   ]
  },
  {
   "cell_type": "code",
   "execution_count": 2,
   "metadata": {},
   "outputs": [],
   "source": [
    "top = Tk() # TKinter Windows object is being created.\n",
    "\n",
    "top.mainloop() # This ends the program "
   ]
  },
  {
   "cell_type": "code",
   "execution_count": 3,
   "metadata": {},
   "outputs": [],
   "source": [
    "top = Tk()\n",
    "top.title('My First Application')\n",
    "top.geometry('500x300')\n",
    "\n",
    "\n",
    "\n",
    "top.mainloop()"
   ]
  },
  {
   "cell_type": "markdown",
   "metadata": {},
   "source": [
    "#### Add Widgets"
   ]
  },
  {
   "cell_type": "code",
   "execution_count": 4,
   "metadata": {},
   "outputs": [],
   "source": [
    "top = Tk()\n",
    "top.title('My First Application')\n",
    "top.geometry('500x300')\n",
    "\n",
    "l = Label(top, text='Hello World')\n",
    "l.pack() # Layout manager --> adds the widget sequentially\n",
    "\n",
    "top.mainloop()"
   ]
  },
  {
   "cell_type": "markdown",
   "metadata": {},
   "source": [
    "## Layout manager --> \n",
    "- pack - adds the widget sequentially\n",
    "- grid - added in matrix\n",
    "- place - exacrt location (x,y)"
   ]
  },
  {
   "cell_type": "code",
   "execution_count": 5,
   "metadata": {},
   "outputs": [],
   "source": [
    "top = Tk()\n",
    "top.title('My First Application')\n",
    "top.geometry('500x300')\n",
    "\n",
    "l = Label(top, text='Hello World').pack()\n",
    "Entry(top).pack()\n",
    "Button(top, text=\"Submit\").pack()\n",
    "\n",
    "top.mainloop()"
   ]
  },
  {
   "cell_type": "markdown",
   "metadata": {},
   "source": [
    "### Event handling"
   ]
  },
  {
   "cell_type": "code",
   "execution_count": 9,
   "metadata": {},
   "outputs": [
    {
     "name": "stdout",
     "output_type": "stream",
     "text": [
      "Your Name is: HHVJHVJ\n"
     ]
    }
   ],
   "source": [
    "top = Tk()\n",
    "top.title('My First Application')\n",
    "top.geometry('500x300')\n",
    "\n",
    "def show():\n",
    "    name = str(e.get())\n",
    "    print(\"Your Name is:\", name.upper())\n",
    "\n",
    "Label(top, text='Enter your Name').pack()\n",
    "e = Entry(top)\n",
    "e.pack()\n",
    "Button(top, text=\"Submit\", command=show).pack()\n",
    "\n",
    "top.mainloop()"
   ]
  },
  {
   "cell_type": "code",
   "execution_count": 13,
   "metadata": {},
   "outputs": [],
   "source": [
    "top = Tk()\n",
    "top.title('My First Application')\n",
    "top.geometry('500x300')\n",
    "\n",
    "def show():\n",
    "    name = str(e.get())\n",
    "    Label(top,text = \"Your name is:\" + name.upper()).pack()\n",
    "\n",
    "Label(top, text='Enter your Name').pack()\n",
    "e = Entry(top)\n",
    "e.pack()\n",
    "Button(top, text=\"Submit\", command=show).pack()\n",
    "\n",
    "top.mainloop()"
   ]
  },
  {
   "cell_type": "markdown",
   "metadata": {},
   "source": [
    "## Interactive Application\n"
   ]
  },
  {
   "cell_type": "code",
   "execution_count": null,
   "metadata": {},
   "outputs": [],
   "source": [
    "top = Tk()\n",
    "top.title('My First Application')\n",
    "top.geometry('500x300')\n",
    "\n",
    "def show():\n",
    "    num = int(e.get())\n",
    "    num **=2\n",
    "    Label(top,text = \"Square of Your number is:\" +str(num)).place(x=50,y=150)\n",
    "\n",
    "Label(top, text='Enter the number').place(x=50,y=30)\n",
    "e = Entry(top)\n",
    "e.place(x=50,y=70)\n",
    "Button(top, text=\"Submit\", command=show).place(x=50,y=110)\n",
    "\n",
    "top.mainloop()"
   ]
  },
  {
   "cell_type": "markdown",
   "metadata": {},
   "source": [
    "#### Simple Calculator"
   ]
  },
  {
   "cell_type": "code",
   "execution_count": null,
   "metadata": {},
   "outputs": [],
   "source": [
    "top = Tk()\n",
    "top.title('Simple Calculator')\n",
    "top.geometry('500x300')\n",
    "\n",
    "def show(operation):\n",
    "    num1 = float(e1.get())\n",
    "    num2 = float(e2.get())\n",
    "    if(operation=='add'):\n",
    "        result = num1+num2\n",
    "    elif(operation=='subtract'):\n",
    "        result = num1-num2\n",
    "    elif(operation=='multiply'):\n",
    "        result = num1*num2\n",
    "    elif(operation=='divide'):\n",
    "        result = num1/num2\n",
    "\n",
    "    Label(top,text = \"Answer is:\" +str(result)).place(x=50,y=150)\n",
    "\n",
    "l1 = Label(top, text='Enter the number1').place(x=50,y=30)\n",
    "l2 = Label(top, text='Enter the number2').place(x=250,y=30)\n",
    "e1 = Entry(top)\n",
    "e1.place(x=50,y=70)\n",
    "e2 = Entry(top)\n",
    "e2.place(x=250,y=70)\n",
    "\n",
    "Button(top, text='Add', command=lambda: show('add')).place(x=50,y=100)\n",
    "Button(top, text='Subtract', command=lambda: show('subtract')).place(x=150,y=100)\n",
    "Button(top, text='Multiply', command=lambda: show('multiply')).place(x=250,y=100)\n",
    "Button(top, text='Divide', command=lambda: show('divide')).place(x=350,y=100)\n",
    "\n",
    "top.mainloop()"
   ]
  },
  {
   "cell_type": "markdown",
   "metadata": {},
   "source": [
    "### GUI for Spam Classifier "
   ]
  },
  {
   "cell_type": "code",
   "execution_count": 1,
   "metadata": {},
   "outputs": [],
   "source": [
    "from nltk.tokenize import word_tokenize\n",
    "from nltk.corpus import stopwords\n",
    "from nltk.stem import PorterStemmer\n",
    "import joblib\n",
    "ps = PorterStemmer()\n",
    "swords = stopwords.words('english')"
   ]
  },
  {
   "cell_type": "code",
   "execution_count": 2,
   "metadata": {},
   "outputs": [],
   "source": [
    "def clean_txt(sent):\n",
    "    tokens = word_tokenize(sent)  # Step-1. Tokenize the text\n",
    "    tokens = [token for token in tokens if token.isalnum()]  # Step-2 Remove the punctuations\n",
    "    tokens = [token for token in tokens if token.lower() not in swords]  # Step-3 Remove stopwords\n",
    "    tokens = [ps.stem(token) for token in tokens]  # step-4 Remove the suffixes\n",
    "    return tokens "
   ]
  },
  {
   "cell_type": "code",
   "execution_count": 12,
   "metadata": {},
   "outputs": [],
   "source": [
    "top = Tk()\n",
    "top.title('Spam Classifier')\n",
    "top.geometry('800x600')\n",
    "\n",
    "def check():\n",
    "    classifier = joblib.load('classifier.model')\n",
    "    tfidf = joblib.load('preprocessor.model')\n",
    "    message = str(t.get('1.0',END))\n",
    "    result = classifier.predict(tfidf.transform([message]))\n",
    "\n",
    "    \n",
    "    l.config(text='Message is: '+str(result[0]))\n",
    "    l.place(x = 350,y=550)\n",
    "\n",
    "\n",
    "\n",
    "Label(top, text='Enter your message here:').place(x=50,y=30)\n",
    "t = Text(top)\n",
    "t.place(x=50,y=70)\n",
    "Button(top, text=\"Check\", command=check).place(x=350,y=500)\n",
    "l = Label(top,text='Message is: ')\n",
    "\n",
    "top.mainloop()"
   ]
  },
  {
   "cell_type": "code",
   "execution_count": null,
   "metadata": {},
   "outputs": [],
   "source": []
  }
 ],
 "metadata": {
  "kernelspec": {
   "display_name": "base",
   "language": "python",
   "name": "python3"
  },
  "language_info": {
   "codemirror_mode": {
    "name": "ipython",
    "version": 3
   },
   "file_extension": ".py",
   "mimetype": "text/x-python",
   "name": "python",
   "nbconvert_exporter": "python",
   "pygments_lexer": "ipython3",
   "version": "3.11.7"
  }
 },
 "nbformat": 4,
 "nbformat_minor": 2
}
