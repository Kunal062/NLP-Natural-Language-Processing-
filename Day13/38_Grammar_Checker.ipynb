{
 "cells": [
  {
   "cell_type": "markdown",
   "metadata": {},
   "source": [
    "## Import the libraries"
   ]
  },
  {
   "cell_type": "code",
   "execution_count": null,
   "metadata": {},
   "outputs": [],
   "source": [
    "#pip install language-tool-python"
   ]
  },
  {
   "cell_type": "code",
   "execution_count": 2,
   "metadata": {},
   "outputs": [],
   "source": [
    "import language_tool_python"
   ]
  },
  {
   "cell_type": "markdown",
   "metadata": {},
   "source": [
    "### Set the language"
   ]
  },
  {
   "cell_type": "code",
   "execution_count": 4,
   "metadata": {},
   "outputs": [
    {
     "name": "stderr",
     "output_type": "stream",
     "text": [
      "Downloading LanguageTool 6.4: 100%|██████████| 246M/246M [00:10<00:00, 24.1MB/s] \n",
      "Unzipping C:\\Users\\ADMINI~1.DAI\\AppData\\Local\\Temp\\tmpc_c8ibgm.zip to C:\\Users\\Administrator.DAI-PC2\\.cache\\language_tool_python.\n",
      "Downloaded https://www.languagetool.org/download/LanguageTool-6.4.zip to C:\\Users\\Administrator.DAI-PC2\\.cache\\language_tool_python.\n"
     ]
    }
   ],
   "source": [
    "# using the tool\n",
    "my_tool = language_tool_python.LanguageTool('en-US')"
   ]
  },
  {
   "cell_type": "code",
   "execution_count": 10,
   "metadata": {},
   "outputs": [],
   "source": [
    "## given text\n",
    "my_text = \"He have collected a documents. I is there.\""
   ]
  },
  {
   "cell_type": "code",
   "execution_count": 11,
   "metadata": {},
   "outputs": [
    {
     "name": "stdout",
     "output_type": "stream",
     "text": [
      "Offset 3, length 4, Rule ID: HE_VERB_AGR\n",
      "Message: The pronoun ‘He’ is usually used with a third-person or a past tense verb.\n",
      "Suggestion: has; had\n",
      "He have collected a documents. I is there.\n",
      "   ^^^^\n",
      "Offset 18, length 11, Rule ID: A_NNS\n",
      "Message: The plural noun “documents” cannot be used with the article “a”. Did you mean “a document” or “documents”?\n",
      "Suggestion: a document; documents\n",
      "He have collected a documents. I is there.\n",
      "                  ^^^^^^^^^^^\n",
      "Offset 33, length 2, Rule ID: PERS_PRONOUN_AGREEMENT\n",
      "Message: Did you mean “am” or “will be”?\n",
      "Suggestion: am; will be\n",
      "He have collected a documents. I is there.\n",
      "                                 ^^\n"
     ]
    }
   ],
   "source": [
    "# getting the matches\n",
    "my_matches = my_tool.check(my_text)\n",
    "\n",
    "# printing matches\n",
    "for m in my_matches:\n",
    "    print(m)"
   ]
  },
  {
   "cell_type": "code",
   "execution_count": 12,
   "metadata": {},
   "outputs": [
    {
     "data": {
      "text/plain": [
       "'He has collected a document. I am there.'"
      ]
     },
     "execution_count": 12,
     "metadata": {},
     "output_type": "execute_result"
    }
   ],
   "source": [
    "my_tool.correct(my_text)"
   ]
  },
  {
   "cell_type": "code",
   "execution_count": 13,
   "metadata": {},
   "outputs": [
    {
     "data": {
      "text/plain": [
       "<LanguageTag \"en-US\">"
      ]
     },
     "execution_count": 13,
     "metadata": {},
     "output_type": "execute_result"
    }
   ],
   "source": [
    "my_tool.language"
   ]
  },
  {
   "cell_type": "code",
   "execution_count": null,
   "metadata": {},
   "outputs": [],
   "source": []
  }
 ],
 "metadata": {
  "kernelspec": {
   "display_name": "base",
   "language": "python",
   "name": "python3"
  },
  "language_info": {
   "codemirror_mode": {
    "name": "ipython",
    "version": 3
   },
   "file_extension": ".py",
   "mimetype": "text/x-python",
   "name": "python",
   "nbconvert_exporter": "python",
   "pygments_lexer": "ipython3",
   "version": "3.11.7"
  }
 },
 "nbformat": 4,
 "nbformat_minor": 2
}
