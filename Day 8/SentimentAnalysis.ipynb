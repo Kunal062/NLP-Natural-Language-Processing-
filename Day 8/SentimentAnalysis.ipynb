{
  "cells": [
    {
      "cell_type": "code",
      "execution_count": null,
      "metadata": {
        "colab": {
          "base_uri": "https://localhost:8080/"
        },
        "id": "c5b75v7TS0XD",
        "outputId": "48b45195-1c11-4772-b280-c5580920f285"
      },
      "outputs": [],
      "source": [
        "from google.colab import drive\n",
        "drive.mount('/content/drive')"
      ]
    },
    {
      "cell_type": "code",
      "execution_count": null,
      "metadata": {
        "id": "5JE8ixiYS_HX"
      },
      "outputs": [],
      "source": [
        "import nltk\n",
        "nltk.download('stopwords')\n",
        "nltk.download('punkt')\n",
        "import string\n",
        "import re\n",
        "from os import listdir\n",
        "from nltk.corpus import stopwords\n",
        "from keras.preprocessing.text import Tokenizer\n",
        "from keras.models import Sequential\n",
        "from keras.utils import plot_model\n",
        "from keras.layers import Dense\n",
        "import numpy as np\n",
        "import pandas as pd\n",
        "import matplotlib.pyplot as plt"
      ]
    },
    {
      "cell_type": "code",
      "execution_count": null,
      "metadata": {
        "id": "K_gNIzyej7nA"
      },
      "outputs": [],
      "source": [
        "# load doc into memory\n",
        "def load_doc(filename):\n",
        "  file = open(filename, 'r')\n",
        "  text = file.read()\n",
        "  file.close()\n",
        "  return text"
      ]
    },
    {
      "cell_type": "code",
      "execution_count": null,
      "metadata": {
        "id": "5A2PoNeGkuym"
      },
      "outputs": [],
      "source": [
        "text = load_doc('/content/drive/MyDrive/review_polarity/txt_sentoken/neg/cv000_29416.txt')\n",
        "text"
      ]
    },
    {
      "cell_type": "code",
      "execution_count": null,
      "metadata": {
        "id": "PoPK2qK-k2UB"
      },
      "outputs": [],
      "source": [
        "pos = load_doc('/content/drive/MyDrive/review_polarity/txt_sentoken/pos/cv000_29590.txt')\n",
        "pos"
      ]
    },
    {
      "cell_type": "code",
      "execution_count": null,
      "metadata": {
        "id": "iyV-2p9glkQI"
      },
      "outputs": [],
      "source": [
        "# turn a doc into clean tokens\n",
        "def clean_doc(doc):\n",
        "  # split into tokens by white space\n",
        "  tokens = doc.split()\n",
        "\n",
        "  # prepare regex for char filtering\n",
        "  re_punc = re.compile('[%s]' % re.escape(string.punctuation))\n",
        "\n",
        "  # remove punctuation from each word\n",
        "  tokens = [re_punc.sub('', w) for w in tokens]\n",
        "\n",
        "  # remove remaining tokens that are not alphabetic\n",
        "  tokens = [word for word in tokens if word.isalpha()]\n",
        "\n",
        "  # filter out stop words\n",
        "  stop_words = set(stopwords.words('english'))\n",
        "  tokens = [w for w in tokens if not w in stop_words]\n",
        "\n",
        "  # filter out short tokens\n",
        "  tokens = [word for word in tokens if len(word)>1]\n",
        "\n",
        "  return tokens"
      ]
    },
    {
      "cell_type": "code",
      "execution_count": null,
      "metadata": {
        "colab": {
          "base_uri": "https://localhost:8080/",
          "height": 127
        },
        "id": "wUJFnM5Tlbap",
        "outputId": "9b07d63a-00f2-4da4-bbe9-332f6f8299f7"
      },
      "outputs": [],
      "source": [
        "text"
      ]
    },
    {
      "cell_type": "code",
      "execution_count": null,
      "metadata": {
        "collapsed": true,
        "id": "tU03iXZrm29u"
      },
      "outputs": [],
      "source": [
        "clean_doc(text)"
      ]
    },
    {
      "cell_type": "code",
      "execution_count": null,
      "metadata": {
        "id": "k9UplMShm7wU"
      },
      "outputs": [],
      "source": [
        "# load doc, clean and return line of tokens\n",
        "def doc_to_line(filename, vocab):\n",
        "  # load the doc\n",
        "  doc = load_doc(filename)\n",
        "\n",
        "  # clean the doc\n",
        "  tokens = clean_doc(doc)\n",
        "\n",
        "  # filter by vocab\n",
        "  tokens = [w for w in tokens if w in vocab]\n",
        "\n",
        "  return ' '.join(tokens)"
      ]
    },
    {
      "cell_type": "code",
      "execution_count": null,
      "metadata": {
        "id": "gb2QGWVnoQVf"
      },
      "outputs": [],
      "source": [
        "vocab = open('/content/drive/MyDrive/vocab.txt')\n",
        "vocab = vocab.read().split()"
      ]
    },
    {
      "cell_type": "code",
      "execution_count": null,
      "metadata": {
        "collapsed": true,
        "id": "nm6C3mXmo-ad"
      },
      "outputs": [],
      "source": [
        "vocab"
      ]
    },
    {
      "cell_type": "code",
      "execution_count": null,
      "metadata": {
        "id": "9my4ibPWpdIs"
      },
      "outputs": [],
      "source": [
        "doc_to_line('/content/drive/MyDrive/review_polarity/txt_sentoken/neg/cv000_29416.txt', vocab)"
      ]
    },
    {
      "cell_type": "code",
      "execution_count": null,
      "metadata": {
        "id": "1jIU8T22pgFq"
      },
      "outputs": [],
      "source": [
        "def process_train(directory):\n",
        "  documents = []\n",
        "  for filename in listdir(directory):\n",
        "    if not filename.startswith('cv9'):\n",
        "      path = directory + '/' + filename\n",
        "      doc = load_doc(path)\n",
        "      tokens = clean_doc(doc)\n",
        "      documents.append(tokens)\n",
        "\n",
        "  return documents"
      ]
    },
    {
      "cell_type": "code",
      "execution_count": null,
      "metadata": {
        "id": "nhfjDwkyqnBJ"
      },
      "outputs": [],
      "source": [
        "def process_test(directory):\n",
        "  documents = []\n",
        "  for filename in listdir(directory):\n",
        "    if filename.startswith('cv9'):\n",
        "      path = directory + '/' + filename\n",
        "      doc = load_doc(path)\n",
        "      tokens = clean_doc(doc)\n",
        "      documents.append(tokens)\n",
        "\n",
        "  return documents"
      ]
    },
    {
      "cell_type": "code",
      "execution_count": null,
      "metadata": {
        "collapsed": true,
        "id": "qps5rt4kqyXx"
      },
      "outputs": [],
      "source": [
        "process_test('/content/drive/MyDrive/review_polarity/txt_sentoken/neg')"
      ]
    },
    {
      "cell_type": "code",
      "execution_count": null,
      "metadata": {
        "id": "MQfDycQbryRS"
      },
      "outputs": [],
      "source": [
        "# Load all docs in a directory\n",
        "def process_docs(directory,is_train):\n",
        "  documents = []\n",
        "  for filename in listdir(directory):\n",
        "    # skip all reviews in the test set\n",
        "    if is_train and filename.startswith('cv9'):\n",
        "      continue\n",
        "    if not is_train and not filename.startswith('cv9'):\n",
        "      continue\n",
        "    path = directory + '/' + filename\n",
        "    doc = load_doc(path)\n",
        "\n",
        "    tokens = clean_doc(doc)\n",
        "    documents.append(tokens)\n",
        "  return documents"
      ]
    },
    {
      "cell_type": "code",
      "execution_count": null,
      "metadata": {
        "collapsed": true,
        "id": "UG9lOW_Us82q"
      },
      "outputs": [],
      "source": [
        "process_docs('/content/drive/MyDrive/review_polarity/txt_sentoken/neg', True)"
      ]
    },
    {
      "cell_type": "code",
      "execution_count": null,
      "metadata": {
        "id": "ApYqvkcnujWY"
      },
      "outputs": [],
      "source": [
        "def load_clean_dataset(is_train):\n",
        "  # load documents\n",
        "  neg  = process_docs('/content/drive/MyDrive/review_polarity/txt_sentoken/neg',is_train)\n",
        "  pos  = process_docs('/content/drive/MyDrive/review_polarity/txt_sentoken/pos',is_train)\n",
        "  docs = neg + pos\n",
        "  # prepare labels\n",
        "  labels = [0 for _ in range(len(neg))] + [1 for _ in range(len(pos))]\n",
        "  return docs, labels"
      ]
    },
    {
      "cell_type": "code",
      "execution_count": null,
      "metadata": {
        "id": "iq8WNLLNwR0i"
      },
      "outputs": [],
      "source": [
        "train, train_labels = load_clean_dataset(True)\n",
        "test, test_labels = load_clean_dataset(False)"
      ]
    },
    {
      "cell_type": "code",
      "execution_count": null,
      "metadata": {
        "colab": {
          "base_uri": "https://localhost:8080/"
        },
        "id": "27NGHKH9wya5",
        "outputId": "0615c498-523f-43ea-9da2-24026fe4cb0d"
      },
      "outputs": [],
      "source": [
        "len(train),len(train_labels)"
      ]
    },
    {
      "cell_type": "code",
      "execution_count": null,
      "metadata": {
        "colab": {
          "base_uri": "https://localhost:8080/"
        },
        "id": "KXm7yPGlxLuL",
        "outputId": "2339ab51-b8f0-4ad5-9048-30be96e2669d"
      },
      "outputs": [],
      "source": [
        "len(test), len(test_labels)"
      ]
    },
    {
      "cell_type": "code",
      "execution_count": null,
      "metadata": {
        "colab": {
          "base_uri": "https://localhost:8080/"
        },
        "id": "6UvgZg0DxUA4",
        "outputId": "0b4656a7-ebfc-4059-a289-de0f8272acb2"
      },
      "outputs": [],
      "source": [
        "\n",
        "from collections import Counter\n",
        "Counter(train_labels)\n"
      ]
    },
    {
      "cell_type": "code",
      "execution_count": null,
      "metadata": {
        "colab": {
          "base_uri": "https://localhost:8080/"
        },
        "id": "4INDfhuryl0D",
        "outputId": "095bb311-afb6-47e6-9ab0-8c0fdee3d0a0"
      },
      "outputs": [],
      "source": [
        "Counter(test_labels)"
      ]
    },
    {
      "cell_type": "markdown",
      "metadata": {
        "id": "UbGkzEcxyxky"
      },
      "source": [
        "Preprocess the text\n"
      ]
    },
    {
      "cell_type": "code",
      "execution_count": null,
      "metadata": {
        "id": "wgo8qjp8yoTG"
      },
      "outputs": [],
      "source": [
        "# fit a tokenizer\n",
        "def create_tokenizer(lines):\n",
        "  tokenizer = Tokenizer()\n",
        "  tokenizer.fit_on_texts(lines)\n",
        "  return tokenizer\n"
      ]
    },
    {
      "cell_type": "code",
      "execution_count": null,
      "metadata": {
        "id": "f4rQvy5vyodQ"
      },
      "outputs": [],
      "source": [
        "# Create the tokenizer\n",
        "tokenizer = create_tokenizer(train)"
      ]
    },
    {
      "cell_type": "code",
      "execution_count": null,
      "metadata": {
        "colab": {
          "base_uri": "https://localhost:8080/"
        },
        "id": "1Raa6ynlzRM_",
        "outputId": "716e6f24-8da4-4d1e-a554-267c91dfa9e2"
      },
      "outputs": [],
      "source": [
        "# Encode the data\n",
        "X_train = tokenizer.texts_to_matrix(train)\n",
        "X_train.shape"
      ]
    },
    {
      "cell_type": "code",
      "execution_count": null,
      "metadata": {
        "colab": {
          "base_uri": "https://localhost:8080/"
        },
        "id": "ApDgEgmEzcig",
        "outputId": "fedd50ed-3639-4004-a699-b6ca569931f1"
      },
      "outputs": [],
      "source": [
        "X_train[100]"
      ]
    },
    {
      "cell_type": "code",
      "execution_count": null,
      "metadata": {
        "collapsed": true,
        "id": "e_OzbtFbzmTU"
      },
      "outputs": [],
      "source": [
        "tokenizer.word_index"
      ]
    },
    {
      "cell_type": "code",
      "execution_count": null,
      "metadata": {
        "colab": {
          "base_uri": "https://localhost:8080/"
        },
        "id": "T-nIxizp0CnV",
        "outputId": "69a8995b-3df8-432f-a499-1995647f9254"
      },
      "outputs": [],
      "source": [
        "# Encode the data\n",
        "X_test = tokenizer.texts_to_matrix(test)\n",
        "X_test.shape"
      ]
    },
    {
      "cell_type": "markdown",
      "metadata": {
        "id": "ucFTpD7T0fOl"
      },
      "source": [
        "Build the Neural Network"
      ]
    },
    {
      "cell_type": "code",
      "execution_count": null,
      "metadata": {
        "id": "1ZVFZ5AX0UUj"
      },
      "outputs": [],
      "source": [
        "# define the model\n",
        "def define_model(n_words):\n",
        "  model = Sequential()\n",
        "  model.add(Dense(50, input_shape=(n_words,), activation='relu'))\n",
        "  model.add(Dense(1, activation='sigmoid'))\n",
        "  #Compile network\n",
        "  model.compile(loss='binary_crossentropy', optimizer='adam', metrics=['accuracy'])\n",
        "  return model"
      ]
    },
    {
      "cell_type": "code",
      "execution_count": null,
      "metadata": {
        "colab": {
          "base_uri": "https://localhost:8080/",
          "height": 312
        },
        "id": "Y8ApJq0p1XfI",
        "outputId": "052952c7-738e-4d5b-99d7-15ea3a9ee288"
      },
      "outputs": [],
      "source": [
        "# summarize defined model\n",
        "model = define_model(X_train.shape[1])\n",
        "plot_model(model,show_layer_activations=True, show_shapes=True, show_layer_names=True)"
      ]
    },
    {
      "cell_type": "markdown",
      "metadata": {
        "id": "2unLUwxR2pUz"
      },
      "source": [
        "Train the model"
      ]
    },
    {
      "cell_type": "code",
      "execution_count": null,
      "metadata": {
        "colab": {
          "base_uri": "https://localhost:8080/"
        },
        "id": "28uicDWN1sUd",
        "outputId": "7936d61f-52ae-4a0c-bd27-8fa09fc90c92"
      },
      "outputs": [],
      "source": [
        "#fit network\n",
        "model.fit(X_train, np.array(train_labels), epochs=10, batch_size=10)"
      ]
    },
    {
      "cell_type": "code",
      "execution_count": null,
      "metadata": {
        "colab": {
          "base_uri": "https://localhost:8080/"
        },
        "id": "gFY6eWwq3EEJ",
        "outputId": "68687e0e-e5ce-4e2a-b0d0-b24910da8bac"
      },
      "outputs": [],
      "source": [
        "model.evaluate(X_test, np.array(test_labels),batch_size=1)\n"
      ]
    },
    {
      "cell_type": "markdown",
      "metadata": {
        "id": "O5SGGtnE48iZ"
      },
      "source": [
        "Predict the unseen data"
      ]
    },
    {
      "cell_type": "code",
      "execution_count": null,
      "metadata": {
        "id": "QSRbl0QW3lL7"
      },
      "outputs": [],
      "source": [
        "# Test positive text\n",
        "text1 = 'Best movie ever! It was great, I will definitely recommend it.'\n",
        "text2 = 'This is a bad movie. Please dont watch it.'"
      ]
    },
    {
      "cell_type": "code",
      "execution_count": null,
      "metadata": {
        "id": "bCNS4j7V5XT8"
      },
      "outputs": [],
      "source": [
        "def predict_sentiment(review):\n",
        "  tokens = clean_doc(review)\n",
        "  line = ' '.join(tokens)\n",
        "  encoded = tokenizer.texts_to_matrix([line],mode='binary')\n",
        "  yhat = model.predict(encoded)\n",
        "  percent_pos= yhat[0][0]\n",
        "  if round(percent_pos)==0:\n",
        "    return (1-percent_pos),'Negative'\n",
        "  return percent_pos,'Positive'\n"
      ]
    },
    {
      "cell_type": "code",
      "execution_count": null,
      "metadata": {
        "colab": {
          "base_uri": "https://localhost:8080/"
        },
        "id": "3NaosWcp6QYB",
        "outputId": "73d6884b-5866-47f4-e3d8-275f7339a8ef"
      },
      "outputs": [],
      "source": [
        "predict_sentiment(text1)"
      ]
    },
    {
      "cell_type": "code",
      "execution_count": null,
      "metadata": {
        "colab": {
          "base_uri": "https://localhost:8080/"
        },
        "id": "Qp4gJyj_6SFg",
        "outputId": "d051a8d8-e43c-4dac-e071-825d9f6b438d"
      },
      "outputs": [],
      "source": [
        "predict_sentiment(text2)"
      ]
    },
    {
      "cell_type": "code",
      "execution_count": null,
      "metadata": {
        "id": "fTCU0oXM7-04"
      },
      "outputs": [],
      "source": []
    }
  ],
  "metadata": {
    "accelerator": "GPU",
    "colab": {
      "gpuType": "T4",
      "provenance": []
    },
    "kernelspec": {
      "display_name": "Python 3",
      "name": "python3"
    },
    "language_info": {
      "name": "python"
    }
  },
  "nbformat": 4,
  "nbformat_minor": 0
}
